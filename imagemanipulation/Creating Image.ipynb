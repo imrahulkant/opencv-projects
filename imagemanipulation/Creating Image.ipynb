{
 "cells": [
  {
   "cell_type": "code",
   "execution_count": 1,
   "metadata": {},
   "outputs": [],
   "source": [
    "import cv2\n",
    "import numpy"
   ]
  },
  {
   "cell_type": "code",
   "execution_count": 2,
   "metadata": {},
   "outputs": [],
   "source": [
    "img = numpy.zeros([450,450,3])\n",
    "\n",
    "img[:,:,0] = numpy.ones([450,450])*64/255.0\n",
    "img[:,:,1] = numpy.ones([450,450])*128/255.0\n",
    "img[:,:,2] = numpy.ones([450,450])*192/255.0\n",
    "\n",
    "r,g,b = cv2.split(img)\n",
    "img_bgr = cv2.merge([b,g,r])\n",
    "cv2.imwrite('color_img.jpg', img_bgr)\n",
    "cv2.imshow(\"image\", img_bgr)\n",
    "cv2.waitKey()\n",
    "cv2.destroyAllWindows()"
   ]
  },
  {
   "cell_type": "code",
   "execution_count": 3,
   "metadata": {},
   "outputs": [],
   "source": [
    "img = numpy.zeros([450,450,3])\n",
    "\n",
    "img[:,:,0] = numpy.ones([450,450])*64/255.0\n",
    "img[:,:,1] = numpy.ones([450,450])*128/255.0\n",
    "img[:,:,2] = numpy.ones([450,450])*192/255.0\n",
    "\n",
    "cv2.imwrite('color_img.jpg', img)\n",
    "cv2.imshow(\"image\", img)\n",
    "cv2.waitKey()\n",
    "cv2.destroyAllWindows()"
   ]
  },
  {
   "cell_type": "code",
   "execution_count": null,
   "metadata": {},
   "outputs": [],
   "source": []
  }
 ],
 "metadata": {
  "kernelspec": {
   "display_name": "Python 3",
   "language": "python",
   "name": "python3"
  },
  "language_info": {
   "codemirror_mode": {
    "name": "ipython",
    "version": 3
   },
   "file_extension": ".py",
   "mimetype": "text/x-python",
   "name": "python",
   "nbconvert_exporter": "python",
   "pygments_lexer": "ipython3",
   "version": "3.8.3"
  }
 },
 "nbformat": 4,
 "nbformat_minor": 4
}
