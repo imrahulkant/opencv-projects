{
 "cells": [
  {
   "cell_type": "code",
   "execution_count": 1,
   "metadata": {},
   "outputs": [],
   "source": [
    "import cv2\n",
    "import numpy as np"
   ]
  },
  {
   "cell_type": "code",
   "execution_count": 2,
   "metadata": {},
   "outputs": [],
   "source": [
    "# Image 01\n",
    "\n",
    "photo = cv2.imread('image-0.png')\n",
    "cv2.imshow(\"Photo\", photo)\n",
    "cv2.waitKey()\n",
    "cv2.destroyAllWindows()"
   ]
  },
  {
   "cell_type": "code",
   "execution_count": 3,
   "metadata": {},
   "outputs": [],
   "source": [
    "# Image 02\n",
    "\n",
    "photo1 = cv2.imread('image-1.png')\n",
    "cv2.imshow(\"Photo\", photo1)\n",
    "cv2.waitKey()\n",
    "cv2.destroyAllWindows()"
   ]
  },
  {
   "cell_type": "code",
   "execution_count": null,
   "metadata": {},
   "outputs": [],
   "source": [
    "# Image 03\n",
    "\n",
    "photo2 = cv2.imread('image-2.png')\n",
    "cv2.imshow(\"Photo\", photo2)\n",
    "cv2.waitKey()\n",
    "cv2.destroyAllWindows()"
   ]
  },
  {
   "cell_type": "code",
   "execution_count": null,
   "metadata": {},
   "outputs": [],
   "source": [
    "# Image 04\n",
    "\n",
    "photo3 = cv2.imread('image-3.png')\n",
    "cv2.imshow(\"Photo\", photo3)\n",
    "cv2.waitKey()\n",
    "cv2.destroyAllWindows()"
   ]
  },
  {
   "cell_type": "code",
   "execution_count": null,
   "metadata": {},
   "outputs": [],
   "source": [
    "# Resizing and Creating first horizontal Collage\n",
    "\n",
    "photo = cv2.resize(photo,(225,225))\n",
    "photo1 = cv2.resize(photo1,(225,225))\n",
    "Hcollage = np.hstack([photo,photo1])\n",
    "cv2.imshow(\"Photo\", Hcollage)\n",
    "cv2.waitKey()\n",
    "cv2.destroyAllWindows()"
   ]
  },
  {
   "cell_type": "code",
   "execution_count": null,
   "metadata": {},
   "outputs": [],
   "source": [
    "# Resizing and Creating second horizontal Collage\n",
    "\n",
    "photo2 = cv2.resize(photo2,(225,225))\n",
    "photo3 = cv2.resize(photo3,(225,225))\n",
    "Hcollage1 = np.hstack([photo2,photo3])\n",
    "cv2.imshow(\"Photo\", Hcollage1)\n",
    "cv2.waitKey()\n",
    "cv2.destroyAllWindows()"
   ]
  },
  {
   "cell_type": "code",
   "execution_count": null,
   "metadata": {},
   "outputs": [],
   "source": [
    "# Merging both collage \n",
    "\n",
    "final_collage = np.vstack([Hcollage,Hcollage1])\n",
    "cv2.imshow(\"Photo\", final_collage)\n",
    "cv2.waitKey()\n",
    "cv2.destroyAllWindows()"
   ]
  },
  {
   "cell_type": "code",
   "execution_count": null,
   "metadata": {},
   "outputs": [],
   "source": []
  }
 ],
 "metadata": {
  "kernelspec": {
   "display_name": "Python 3",
   "language": "python",
   "name": "python3"
  },
  "language_info": {
   "codemirror_mode": {
    "name": "ipython",
    "version": 3
   },
   "file_extension": ".py",
   "mimetype": "text/x-python",
   "name": "python",
   "nbconvert_exporter": "python",
   "pygments_lexer": "ipython3",
   "version": "3.8.3"
  }
 },
 "nbformat": 4,
 "nbformat_minor": 4
}
